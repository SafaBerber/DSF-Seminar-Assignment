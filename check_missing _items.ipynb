{
 "cells": [
  {
   "cell_type": "code",
   "execution_count": null,
   "metadata": {},
   "outputs": [
    {
     "name": "stdout",
     "output_type": "stream",
     "text": [
      "[2018] ✅ Saved missing item report: missing_sections_2018.csv\n",
      "[2019] ✅ Saved missing item report: missing_sections_2019.csv\n",
      "[2020] ✅ Saved missing item report: missing_sections_2020.csv\n",
      "[2021] ✅ Saved missing item report: missing_sections_2021.csv\n",
      "[2022] ✅ Saved missing item report: missing_sections_2022.csv\n",
      "[2023] ✅ Saved missing item report: missing_sections_2023.csv\n",
      "\n",
      "✅ Saved yearly summary report: missing_sections_summary_2018_2023.csv\n",
      "   Year  Missing_Item_1  Missing_Item_1A  Missing_Item_7  Missing_Item_8\n",
      "0  2018             322              152              66              71\n",
      "1  2019              17               12              15              31\n",
      "2  2020              14               10              14              30\n",
      "3  2021              14                9              14              23\n",
      "4  2022              17               12              16              26\n",
      "5  2023              14               11              15              26\n",
      "✅ Saved detailed missing report: missing_sections_detailed_2018_2023.csv\n"
     ]
    }
   ],
   "source": [
    "import pandas as pd\n",
    "\n",
    "years = range(2018, 2024)\n",
    "summary_data = []\n",
    "detailed_data = []\n",
    "\n",
    "# Define the target items and their expected [NOT FOUND] text\n",
    "not_found_map = {\n",
    "    \"Item_1\": \"[NOT FOUND] ITEM 1. BUSINESS → ITEM 1A. RISK FACTORS\",\n",
    "    \"Item_1A\": \"[NOT FOUND] ITEM 1A. RISK FACTORS → ITEM 1B. UNRESOLVED STAFF COMMENTS\",\n",
    "    \"Item_7\": \"[NOT FOUND] ITEM 7. MANAGEMENT’S DISCUSSION AND ANALYSIS OF FINANCIAL CONDITION AND RESULTS OF OPERATIONS → ITEM 7A. QUANTITATIVE AND QUALITATIVE DISCLOSURES ABOUT MARKET RISK\",\n",
    "    \"Item_8\": \"[NOT FOUND] ITEM 8. FINANCIAL STATEMENTS AND SUPPLEMENTARY DATA → ITEM 9. CHANGES IN AND DISAGREEMENTS WITH ACCOUNTANTS ON ACCOUNTING AND FINANCIAL DISCLOSURE\",\n",
    "}\n",
    "\n",
    "for year in years:\n",
    "    try:\n",
    "        # Load the extracted items file for the year\n",
    "        file_path = f\"Data/sp500_10k_items/items_filtered_10K_filings_{year}.csv\"\n",
    "        df = pd.read_csv(file_path)\n",
    "\n",
    "        missing_flags = df[['company']].copy()\n",
    "        for col, not_found_msg in not_found_map.items():\n",
    "            missing_flags[col] = df[col].apply(lambda x: \"✓\" if x == not_found_msg else \"\")\n",
    "\n",
    "        # Count missing items\n",
    "        counts = {\n",
    "            'Year': year,\n",
    "            'Missing_Item_1': (missing_flags[\"Item_1\"] == \"✓\").sum(),\n",
    "            'Missing_Item_1A': (missing_flags[\"Item_1A\"] == \"✓\").sum(),\n",
    "            'Missing_Item_7': (missing_flags[\"Item_7\"] == \"✓\").sum(),\n",
    "            'Missing_Item_8': (missing_flags[\"Item_8\"] == \"✓\").sum(),\n",
    "        }\n",
    "        summary_data.append(counts)\n",
    "        \n",
    "        missing_year_df = missing_flags[(missing_flags[list(not_found_map.keys())] == \"✓\").any(axis=1)].copy()\n",
    "        missing_year_df.insert(0, 'Year', year)\n",
    "        missing_year_df.to_csv(f\"Data/Missing_items/missing_sections_{year}.csv\", index=False)\n",
    "        detailed_data.append(missing_year_df)\n",
    "\n",
    "        print(f\"[{year}] ✅ Saved missing item report: missing_sections_{year}.csv\")\n",
    "\n",
    "    except Exception as e:\n",
    "        print(f\"[{year}] ❌ Error: {e}\")\n",
    "\n",
    "summary_df = pd.DataFrame(summary_data)\n",
    "summary_df.to_csv(\"Data/Missing_items/missing_sections_summary_2018_2023.csv\", index=False)\n",
    "print(\"\\n✅ Saved yearly summary report: missing_sections_summary_2018_2023.csv\")\n",
    "print(summary_df)\n",
    "\n",
    "if detailed_data:\n",
    "    all_detailed_df = pd.concat(detailed_data, ignore_index=True)\n",
    "    all_detailed_df.to_csv(\"Data/Missing_items/missing_sections_detailed_2018_2023.csv\", index=False)\n",
    "    print(\"✅ Saved detailed missing report: missing_sections_detailed_2018_2023.csv\")"
   ]
  }
 ],
 "metadata": {
  "kernelspec": {
   "display_name": "Python 3",
   "language": "python",
   "name": "python3"
  },
  "language_info": {
   "codemirror_mode": {
    "name": "ipython",
    "version": 3
   },
   "file_extension": ".py",
   "mimetype": "text/x-python",
   "name": "python",
   "nbconvert_exporter": "python",
   "pygments_lexer": "ipython3",
   "version": "3.11.5"
  }
 },
 "nbformat": 4,
 "nbformat_minor": 2
}
